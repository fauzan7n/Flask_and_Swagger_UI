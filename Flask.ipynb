{
 "cells": [
  {
   "cell_type": "code",
   "execution_count": 1,
   "id": "c9064d73",
   "metadata": {},
   "outputs": [],
   "source": [
    "import numpy as np"
   ]
  },
  {
   "cell_type": "markdown",
   "id": "1aa9df6c",
   "metadata": {},
   "source": [
    "# Hello World Page"
   ]
  },
  {
   "cell_type": "code",
   "execution_count": 2,
   "id": "34752629",
   "metadata": {},
   "outputs": [
    {
     "ename": "ModuleNotFoundError",
     "evalue": "No module named 'flask'",
     "output_type": "error",
     "traceback": [
      "\u001b[1;31m---------------------------------------------------------------------------\u001b[0m",
      "\u001b[1;31mModuleNotFoundError\u001b[0m                       Traceback (most recent call last)",
      "Cell \u001b[1;32mIn [2], line 1\u001b[0m\n\u001b[1;32m----> 1\u001b[0m \u001b[38;5;28;01mfrom\u001b[39;00m \u001b[38;5;21;01mflask\u001b[39;00m \u001b[38;5;28;01mimport\u001b[39;00m Flask\n\u001b[0;32m      2\u001b[0m app \u001b[38;5;241m=\u001b[39m Flask(\u001b[38;5;18m__name__\u001b[39m)\n\u001b[0;32m      4\u001b[0m \u001b[38;5;129m@app\u001b[39m\u001b[38;5;241m.\u001b[39mroute(\u001b[38;5;124m\"\u001b[39m\u001b[38;5;124m/\u001b[39m\u001b[38;5;124m\"\u001b[39m)  \u001b[38;5;66;03m# flask routing\u001b[39;00m\n\u001b[0;32m      5\u001b[0m \u001b[38;5;28;01mdef\u001b[39;00m \u001b[38;5;21mhome\u001b[39m():\n",
      "\u001b[1;31mModuleNotFoundError\u001b[0m: No module named 'flask'"
     ]
    }
   ],
   "source": [
    "from flask import Flask\n",
    "app = Flask(__name__)\n",
    "\n",
    "@app.route(\"/\")  # flask routing\n",
    "def home():\n",
    "    return \"Hello World…\"\n",
    "\n",
    "if __name__ == \"__main__\":\n",
    "    app.run()"
   ]
  },
  {
   "cell_type": "code",
   "execution_count": null,
   "id": "64e77c91",
   "metadata": {},
   "outputs": [],
   "source": []
  },
  {
   "cell_type": "markdown",
   "id": "721b2090",
   "metadata": {},
   "source": [
    "# Hai Page"
   ]
  },
  {
   "cell_type": "code",
   "execution_count": null,
   "id": "1d4bbe19",
   "metadata": {},
   "outputs": [],
   "source": [
    "from flask import Flask\n",
    "app = Flask(__name__)\n",
    "\n",
    "@app.route(\"/\")  # flask routing\n",
    "def home():\n",
    "    return \"Hello World…\"\n",
    "\n",
    "@app.route(\"/hai\")  # flask routing\n",
    "def hai():\n",
    "    return \"Hai World…\"\n",
    "\n",
    "if __name__ == \"__main__\":\n",
    "    app.run()"
   ]
  },
  {
   "cell_type": "code",
   "execution_count": null,
   "id": "477627a7",
   "metadata": {},
   "outputs": [],
   "source": []
  },
  {
   "cell_type": "markdown",
   "id": "8fce92f4",
   "metadata": {},
   "source": [
    "# Hai Page (Dinamis)"
   ]
  },
  {
   "cell_type": "code",
   "execution_count": null,
   "id": "8a0ff7e1",
   "metadata": {},
   "outputs": [],
   "source": [
    "from flask import Flask\n",
    "app = Flask(__name__)\n",
    "\n",
    "@app.route(\"/\")\n",
    "def home():\n",
    "    return \"Hello World…\"\n",
    "\n",
    "@app.route(\"/hai\")\n",
    "def hai():\n",
    "    return \"Hai…\"\n",
    "\n",
    "@app.route(\"/hai/<name>\") \n",
    "def user(name):\n",
    "    return f\"Hai {name}! How are you?\" \n",
    "\n",
    "if __name__ == \"__main__\":\n",
    "    app.run()"
   ]
  },
  {
   "cell_type": "code",
   "execution_count": null,
   "id": "c5a14576",
   "metadata": {},
   "outputs": [],
   "source": []
  },
  {
   "cell_type": "markdown",
   "id": "de52909c",
   "metadata": {},
   "source": [
    "# Multi Home Page"
   ]
  },
  {
   "cell_type": "code",
   "execution_count": null,
   "id": "67ce344a",
   "metadata": {},
   "outputs": [],
   "source": [
    "from flask import Flask\n",
    "app = Flask(__name__)\n",
    "\n",
    "@app.route(\"/\")\n",
    "@app.route(\"/home\")\n",
    "def home():\n",
    "    return \"Hello World…\"\n",
    "\n",
    "@app.route(\"/hai\")\n",
    "def hai():\n",
    "    return \"Hai…\"\n",
    "\n",
    "@app.route(\"/hai/<name>\")\n",
    "def user(name):\n",
    "    return f\"Hai {name}! How are you?\" \n",
    "\n",
    "if __name__ == \"__main__\":\n",
    "    app.run()"
   ]
  },
  {
   "cell_type": "code",
   "execution_count": null,
   "id": "44a3126c",
   "metadata": {},
   "outputs": [],
   "source": []
  },
  {
   "cell_type": "markdown",
   "id": "5b3c34f5",
   "metadata": {},
   "source": [
    "# Back To Home"
   ]
  },
  {
   "cell_type": "code",
   "execution_count": null,
   "id": "da382818",
   "metadata": {},
   "outputs": [],
   "source": [
    "from flask import Flask, redirect, url_for\n",
    "app = Flask(__name__)\n",
    "\n",
    "@app.route(\"/\")  \n",
    "@app.route(\"/home\")  \n",
    "def home():\n",
    "    return \"Hello World…\"\n",
    "\n",
    "@app.route(\"/hai\")\n",
    "def hai():\n",
    "    return \"Hai…\"\n",
    "\n",
    "@app.route(\"/hai/<name>\")\n",
    "def user(name):\n",
    "    return f\"Hai {name}! How are you?\" \n",
    "\n",
    "@app.route(\"/login\")\n",
    "def login():\n",
    "    return \"Login\"\n",
    "\n",
    "@app.route(\"/logout\")\n",
    "def logout():\n",
    "    return redirect(url_for(\"home\"))\n",
    "\n",
    "if __name__ == \"__main__\":\n",
    "    app.run()"
   ]
  },
  {
   "cell_type": "code",
   "execution_count": null,
   "id": "71ff37aa",
   "metadata": {},
   "outputs": [],
   "source": []
  },
  {
   "cell_type": "markdown",
   "id": "7213a884",
   "metadata": {},
   "source": [
    "# Render HTML"
   ]
  },
  {
   "cell_type": "code",
   "execution_count": null,
   "id": "7037e4c1",
   "metadata": {},
   "outputs": [],
   "source": [
    "from flask import Flask, redirect, url_for, render_template\n",
    "app = Flask(__name__)\n",
    "\n",
    "@app.route(\"/\")  \n",
    "@app.route(\"/home\")  \n",
    "def home():\n",
    "    return render_template(\"test.html\")\n",
    "\n",
    "@app.route(\"/hai\")\n",
    "def hai():\n",
    "    return \"Hai…\"\n",
    "\n",
    "@app.route(\"/hai/<name>\")\n",
    "def user(name):\n",
    "    return f\"Hai {name}! How are you?\" \n",
    "\n",
    "\n",
    "@app.route(\"/login\")\n",
    "def login():\n",
    "    return \"Login\"\n",
    "\n",
    "@app.route(\"/logout\")\n",
    "def logout():\n",
    "    return redirect(url_for(\"home\"))\n",
    "\n",
    "if __name__ == \"__main__\":\n",
    "    app.run()"
   ]
  },
  {
   "cell_type": "code",
   "execution_count": null,
   "id": "d87c66f5",
   "metadata": {},
   "outputs": [],
   "source": []
  },
  {
   "cell_type": "markdown",
   "id": "4bc5384f",
   "metadata": {},
   "source": [
    "# Render Multi Html"
   ]
  },
  {
   "cell_type": "code",
   "execution_count": null,
   "id": "04ea04bc",
   "metadata": {},
   "outputs": [],
   "source": [
    "from flask import Flask, redirect, url_for, render_template\n",
    "app = Flask(__name__)\n",
    "\n",
    "@app.route(\"/\")  \n",
    "@app.route(\"/home\")  \n",
    "def home():\n",
    "    return render_template(\"home.html\")\n",
    "\n",
    "@app.route(\"/hai\")\n",
    "def hai():\n",
    "    return \"Hai…\"\n",
    "\n",
    "@app.route(\"/hai/<name>\")\n",
    "def user(name):\n",
    "    return f\"Hai {name}! How are you?\" \n",
    "\n",
    "@app.route(\"/login\")\n",
    "def login():\n",
    "    return render_template(\"login.html\")\n",
    "\n",
    "@app.route(\"/logout\")\n",
    "def logout():\n",
    "    return redirect(url_for(\"home\"))\n",
    "\n",
    "if __name__ == \"__main__\":\n",
    "    app.run()"
   ]
  },
  {
   "cell_type": "code",
   "execution_count": null,
   "id": "8b933529",
   "metadata": {},
   "outputs": [],
   "source": []
  },
  {
   "cell_type": "markdown",
   "id": "a808665a",
   "metadata": {},
   "source": [
    "# Submit"
   ]
  },
  {
   "cell_type": "code",
   "execution_count": null,
   "id": "314f303a",
   "metadata": {},
   "outputs": [],
   "source": [
    "from flask import Flask, redirect, url_for, render_template, request\n",
    "app = Flask(__name__)\n",
    "\n",
    "@app.route(\"/\")  \n",
    "@app.route(\"/home\")\n",
    "def home():\n",
    "    return render_template(\"home.html\")\n",
    "\n",
    "@app.route(\"/hai\")\n",
    "def hai():\n",
    "    return \"Hai…\"\n",
    "\n",
    "@app.route(\"/hai/<name>\")\n",
    "def user(name):\n",
    "    return f\"Hai {name}! How are you?\" \n",
    "\n",
    "@app.route(\"/login\")\n",
    "def login():\n",
    "    return render_template(\"login.html\")\n",
    "\n",
    "@app.route(\"/logout\")\n",
    "def logout():\n",
    "    return redirect(url_for(\"home\"))\n",
    "\n",
    "@app.route('/submit',methods = ['POST', 'GET'])\n",
    "def submit():\n",
    "    if request.method == 'POST':\n",
    "        user = request.form['nm']\n",
    "        print(user)\n",
    "        return redirect(url_for(\"user\", name = user))\n",
    "    else:\n",
    "        user = request.args.get('nm')\n",
    "        return render_template(\"login.html\")\n",
    "    \n",
    "if __name__ == \"__main__\":\n",
    "    app.run()"
   ]
  },
  {
   "cell_type": "code",
   "execution_count": null,
   "id": "a65ad4b8",
   "metadata": {},
   "outputs": [],
   "source": []
  },
  {
   "cell_type": "markdown",
   "id": "a65f7011",
   "metadata": {},
   "source": [
    "# API GET JSON"
   ]
  },
  {
   "cell_type": "code",
   "execution_count": 1,
   "id": "f7b443bd",
   "metadata": {},
   "outputs": [],
   "source": [
    "get_json = {'first': 'lintang',\n",
    "            'last': 'gilang'}"
   ]
  },
  {
   "cell_type": "code",
   "execution_count": null,
   "id": "cd1b3161",
   "metadata": {},
   "outputs": [
    {
     "name": "stdout",
     "output_type": "stream",
     "text": [
      " * Serving Flask app \"__main__\" (lazy loading)\n",
      " * Environment: production\n",
      "\u001b[31m   WARNING: This is a development server. Do not use it in a production deployment.\u001b[0m\n",
      "\u001b[2m   Use a production WSGI server instead.\u001b[0m\n",
      " * Debug mode: off\n"
     ]
    },
    {
     "name": "stderr",
     "output_type": "stream",
     "text": [
      " * Running on http://127.0.0.1:5000/ (Press CTRL+C to quit)\n",
      "127.0.0.1 - - [22/Sep/2022 23:10:04] \"GET / HTTP/1.1\" 200 -\n",
      "127.0.0.1 - - [22/Sep/2022 23:10:04] \"GET /static/style.css HTTP/1.1\" 304 -\n",
      "127.0.0.1 - - [22/Sep/2022 23:10:04] \"GET /static/img.jpg HTTP/1.1\" 304 -\n",
      "127.0.0.1 - - [22/Sep/2022 23:10:06] \"GET /login HTTP/1.1\" 200 -\n",
      "127.0.0.1 - - [22/Sep/2022 23:10:07] \"GET /logout HTTP/1.1\" 302 -\n",
      "127.0.0.1 - - [22/Sep/2022 23:10:07] \"GET /home HTTP/1.1\" 200 -\n",
      "127.0.0.1 - - [22/Sep/2022 23:10:08] \"GET /login HTTP/1.1\" 200 -\n",
      "127.0.0.1 - - [22/Sep/2022 23:10:08] \"GET /home HTTP/1.1\" 200 -\n",
      "127.0.0.1 - - [22/Sep/2022 23:10:08] \"GET /login HTTP/1.1\" 200 -\n"
     ]
    }
   ],
   "source": [
    "from flask import Flask, redirect, url_for, render_template, request\n",
    "app = Flask(__name__)\n",
    "\n",
    "@app.route(\"/\")  \n",
    "@app.route(\"/home\")\n",
    "def home():\n",
    "    return render_template(\"home.html\")\n",
    "\n",
    "@app.route(\"/hai\")\n",
    "def hai():\n",
    "    return \"Hai…\"\n",
    "\n",
    "@app.route(\"/hai/<name>\")\n",
    "def user(name):\n",
    "    return f\"Hai {name}! How are you?\" \n",
    "\n",
    "@app.route(\"/login\")\n",
    "def login():\n",
    "    return render_template(\"login.html\")\n",
    "\n",
    "@app.route(\"/logout\")\n",
    "def logout():\n",
    "    return redirect(url_for(\"home\"))\n",
    "\n",
    "@app.route('/submit',methods = ['POST', 'GET'])\n",
    "def submit():\n",
    "    if request.method == 'POST':\n",
    "        user = request.form['nm']\n",
    "        return redirect(url_for(\"user\", name = user))\n",
    "    else:\n",
    "        user = request.args.get('nm')\n",
    "        return render_template(\"login.html\")\n",
    "        \n",
    "@app.route('/get_api', methods = ['GET'])\n",
    "def get_api():\n",
    "    return jsonify(get_json)\n",
    "\n",
    "@app.route('/get_api/upper', methods = ['GET'])\n",
    "def upper():\n",
    "    get_json_upper = get_json.copy()\n",
    "    get_json_upper['first'] = get_json_upper['first'].upper()\n",
    "    get_json_upper['last'] = get_json_upper['last'].upper()\n",
    "    return jsonify(get_json_upper)\n",
    "\n",
    "if __name__ == \"__main__\":\n",
    "    app.run()"
   ]
  },
  {
   "cell_type": "code",
   "execution_count": null,
   "id": "1c352462",
   "metadata": {},
   "outputs": [],
   "source": []
  },
  {
   "cell_type": "code",
   "execution_count": null,
   "id": "846222ce",
   "metadata": {},
   "outputs": [],
   "source": []
  },
  {
   "cell_type": "code",
   "execution_count": null,
   "id": "803ecc45",
   "metadata": {},
   "outputs": [],
   "source": []
  }
 ],
 "metadata": {
  "kernelspec": {
   "display_name": "Python 3 (ipykernel)",
   "language": "python",
   "name": "python3"
  },
  "language_info": {
   "codemirror_mode": {
    "name": "ipython",
    "version": 3
   },
   "file_extension": ".py",
   "mimetype": "text/x-python",
   "name": "python",
   "nbconvert_exporter": "python",
   "pygments_lexer": "ipython3",
   "version": "3.10.7"
  }
 },
 "nbformat": 4,
 "nbformat_minor": 5
}
